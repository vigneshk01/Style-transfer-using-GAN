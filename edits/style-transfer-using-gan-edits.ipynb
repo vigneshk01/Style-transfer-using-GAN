{
  "cells": [
    {
      "cell_type": "markdown",
      "metadata": {
        "colab_type": "text",
        "id": "view-in-github"
      },
      "source": [
        "<table align=\"left\">\n",
        "    <td>\n",
        "        <a href=\"https://colab.research.google.com/github/vigneshk01/style-transfer-using-GAN/blob/master/style-transfer-using-gan-final.ipynb\" target=\"_parent\"><img src=\"https://colab.research.google.com/assets/colab-badge.svg\" alt=\"Open In Colab\"/></a>\n",
        "    </td>\n",
        "    <td>\n",
        "        <a href=\"https://www.kaggle.com/code/vigneshk01/style-transfer-using-cyclegan-final/edit\" target=\"_parent\"><img src=\"https://kaggle.com/static/images/open-in-kaggle.svg\" alt=\"Open In Kaggle\"/></a>\n",
        "    </td>\n",
        "</table>"
      ]
    },
    {
      "cell_type": "markdown",
      "metadata": {
        "id": "HnwzxgNKWKhw"
      },
      "source": [
        "## Style Transfer Using GAN (CycleGAN)"
      ]
    },
    {
      "cell_type": "markdown",
      "metadata": {
        "id": "g9y3EWEDWKhx"
      },
      "source": [
        "### Variables, Hyperparamaters and libraries import"
      ]
    },
    {
      "cell_type": "code",
      "execution_count": null,
      "metadata": {
        "colab": {
          "base_uri": "https://localhost:8080/"
        },
        "execution": {
          "iopub.execute_input": "2025-05-09T11:45:16.250564Z",
          "iopub.status.busy": "2025-05-09T11:45:16.250045Z",
          "iopub.status.idle": "2025-05-09T11:45:16.254622Z",
          "shell.execute_reply": "2025-05-09T11:45:16.253738Z",
          "shell.execute_reply.started": "2025-05-09T11:45:16.250538Z"
        },
        "id": "e7e70d_rWKhx",
        "outputId": "e0e34aa2-2d50-4723-b06c-b6722ba3a697",
        "trusted": true
      },
      "outputs": [],
      "source": [
        "PLATFORM = 'collab'\n",
        "# PLATFORM = 'kaggle'\n",
        "# PLATFORM = ''\n",
        "\n",
        "from google.colab import drive\n",
        "drive.mount('/content/drive')"
      ]
    },
    {
      "cell_type": "code",
      "execution_count": null,
      "metadata": {
        "colab": {
          "base_uri": "https://localhost:8080/"
        },
        "execution": {
          "iopub.execute_input": "2025-05-09T11:45:16.256075Z",
          "iopub.status.busy": "2025-05-09T11:45:16.255768Z",
          "iopub.status.idle": "2025-05-09T11:45:16.297236Z",
          "shell.execute_reply": "2025-05-09T11:45:16.296412Z",
          "shell.execute_reply.started": "2025-05-09T11:45:16.256047Z"
        },
        "id": "TdOHejykWKhy",
        "outputId": "cdaea06e-82e4-480a-d3a1-9b89b9e2f427",
        "trusted": true
      },
      "outputs": [],
      "source": [
        "# %pip install -r requirements.txt\n",
        "# %pip install git+https://github.com/tensorflow/docs\n",
        "\n",
        "import importlib.util\n",
        "import subprocess\n",
        "import sys\n",
        "\n",
        "def install_custom_package(package_name, repo_url):\n",
        "    # Check if the package is already installed\n",
        "    if importlib.util.find_spec(package_name) is None:\n",
        "        print(f\"{package_name} is not installed. Installing from {repo_url}...\")\n",
        "        subprocess.check_call([sys.executable, \"-m\", \"pip\", \"install\", repo_url])\n",
        "    else:\n",
        "        print(f\"{package_name} is already installed.\")\n",
        "\n",
        "install_custom_package(\"tensorflow_docs\", \"git+https://github.com/tensorflow/docs\")"
      ]
    },
    {
      "cell_type": "code",
      "execution_count": null,
      "metadata": {
        "execution": {
          "iopub.execute_input": "2025-05-09T11:45:16.298274Z",
          "iopub.status.busy": "2025-05-09T11:45:16.298051Z",
          "iopub.status.idle": "2025-05-09T11:45:16.391941Z",
          "shell.execute_reply": "2025-05-09T11:45:16.391342Z",
          "shell.execute_reply.started": "2025-05-09T11:45:16.298253Z"
        },
        "id": "YLFobinNWKhy",
        "trusted": true
      },
      "outputs": [],
      "source": [
        "import os\n",
        "import time\n",
        "import glob\n",
        "import pickle\n",
        "import imageio\n",
        "import shutil\n",
        "\n",
        "import numpy as np\n",
        "import pandas as pd\n",
        "import tensorflow as tf\n",
        "from numpy import asarray\n",
        "from skimage.io import imread\n",
        "\n",
        "import matplotlib.pyplot as plt\n",
        "from skimage.transform import resize\n",
        "import tensorflow_docs.vis.embed as embed\n",
        "from tensorflow.keras.utils import plot_model\n",
        "from keras.preprocessing.image import img_to_array, load_img, array_to_img"
      ]
    },
    {
      "cell_type": "code",
      "execution_count": null,
      "metadata": {
        "colab": {
          "base_uri": "https://localhost:8080/"
        },
        "id": "59wPMKE7WKhz",
        "outputId": "133b6cd1-6f96-4c22-c8a7-46bd8735fe8a"
      },
      "outputs": [],
      "source": [
        "print(tf.config.list_physical_devices('GPU'))"
      ]
    },
    {
      "cell_type": "code",
      "execution_count": null,
      "metadata": {
        "execution": {
          "iopub.execute_input": "2025-05-09T11:45:16.393831Z",
          "iopub.status.busy": "2025-05-09T11:45:16.393618Z",
          "iopub.status.idle": "2025-05-09T11:45:16.400492Z",
          "shell.execute_reply": "2025-05-09T11:45:16.399683Z",
          "shell.execute_reply.started": "2025-05-09T11:45:16.393816Z"
        },
        "id": "2ExY7apJWKhz",
        "trusted": true
      },
      "outputs": [],
      "source": [
        "if PLATFORM == 'collab':\n",
        "    SOURCE_FOLDER = '/content/drive/MyDrive/Colab Notebooks/projects/Style-Transfer-using-GAN/Source/'\n",
        "    T1_FOLDER = SOURCE_FOLDER + 'Tr1/TrainT1/'\n",
        "    T2_FOLDER = SOURCE_FOLDER + 'Tr2/TrainT2/'\n",
        "    OUTPUT_FOLDER = './Output/'\n",
        "elif PLATFORM == 'kaggle':\n",
        "    SOURCE_FOLDER = '/kaggle/input/cyclegan-dataset/'\n",
        "    T1_FOLDER = SOURCE_FOLDER + 'Tr1/TrainT1/'\n",
        "    T2_FOLDER = SOURCE_FOLDER + 'Tr2/TrainT2/'\n",
        "    OUTPUT_FOLDER = './Output/'\n",
        "else:\n",
        "    SOURCE_FOLDER = './Source/'\n",
        "    T1_FOLDER = SOURCE_FOLDER + 'Tr1/TrainT1/'\n",
        "    T2_FOLDER = SOURCE_FOLDER + 'Tr2/TrainT2/'\n",
        "    OUTPUT_FOLDER = './Output/'\n",
        "\n",
        "TIMESTAMP = str(time.strftime('%Y%m%d%H%M%S'))\n",
        "# TIMESTAMP = '20250509110606'\n",
        "TEMP_FOLDER = OUTPUT_FOLDER + TIMESTAMP + '/'\n",
        "\n",
        "if os.path.exists(OUTPUT_FOLDER):\n",
        "    if os.path.exists(TEMP_FOLDER) != True:\n",
        "        os.mkdir(TEMP_FOLDER)\n",
        "else:\n",
        "    os.mkdir(OUTPUT_FOLDER)\n",
        "    os.mkdir(TEMP_FOLDER)\n",
        "\n",
        "EPOCHS = 50\n",
        "BATCH_SIZE = 1\n",
        "IMG_WIDTH = 256\n",
        "IMG_HEIGHT = 256\n",
        "BUFFER_SIZE = 1000\n",
        "RESTORE_CHECKPOINT = False"
      ]
    },
    {
      "cell_type": "markdown",
      "metadata": {
        "id": "xP8NW7O6WKhz"
      },
      "source": [
        "### Data Initialization"
      ]
    },
    {
      "cell_type": "code",
      "execution_count": null,
      "metadata": {
        "colab": {
          "base_uri": "https://localhost:8080/",
          "height": 327
        },
        "execution": {
          "iopub.execute_input": "2025-05-09T11:45:16.401524Z",
          "iopub.status.busy": "2025-05-09T11:45:16.401271Z",
          "iopub.status.idle": "2025-05-09T11:45:18.606745Z",
          "shell.execute_reply": "2025-05-09T11:45:18.605933Z",
          "shell.execute_reply.started": "2025-05-09T11:45:16.401507Z"
        },
        "id": "_AIcnjOnWKh0",
        "outputId": "ac53c1c6-e2f8-4ff1-f2f9-b3516ab4f95c",
        "trusted": true
      },
      "outputs": [],
      "source": [
        "# load and resize images\n",
        "def load_images(path, size=(IMG_HEIGHT, IMG_WIDTH)):\n",
        "    images = glob.glob(path+'*.png')\n",
        "    data_list = list()\n",
        "\n",
        "    for filename in images:\n",
        "        pixels = load_img(filename, target_size=size)\n",
        "        # convert to numpy array\n",
        "        pixels = img_to_array(pixels)\n",
        "        # store the data\n",
        "        data_list.append(pixels)\n",
        "    return asarray(data_list)\n",
        "\n",
        "t1_images = load_images(T1_FOLDER)\n",
        "t2_images = load_images(T2_FOLDER)\n",
        "\n",
        "tr1_data = tf.image.rgb_to_grayscale(t1_images)\n",
        "tr2_data = tf.image.rgb_to_grayscale(t2_images)\n",
        "\n",
        "print(tr1_data.shape)\n",
        "print(tr2_data.shape)\n",
        "\n",
        "tr1_dt= tf.data.Dataset.from_tensor_slices(tf.convert_to_tensor(tr1_data))\n",
        "tr2_dt= tf.data.Dataset.from_tensor_slices(tf.convert_to_tensor(tr2_data))\n",
        "\n",
        "fig, axs = plt.subplots(1,2)\n",
        "axs[0].imshow(tr1_data[0], cmap='gray')\n",
        "axs[1].imshow(tr2_data[0], cmap='gray')\n",
        "plt.show();"
      ]
    },
    {
      "cell_type": "markdown",
      "metadata": {
        "id": "_6OwPMJxWKh1"
      },
      "source": [
        "### Image Preprocessing"
      ]
    },
    {
      "cell_type": "markdown",
      "metadata": {
        "id": "5h64jUeaWKh1"
      },
      "source": [
        "#### Image Normalization, Shuffling and Batch Processing"
      ]
    },
    {
      "cell_type": "code",
      "execution_count": null,
      "metadata": {
        "execution": {
          "iopub.execute_input": "2025-05-09T11:45:18.612116Z",
          "iopub.status.busy": "2025-05-09T11:45:18.611902Z",
          "iopub.status.idle": "2025-05-09T11:45:18.812992Z",
          "shell.execute_reply": "2025-05-09T11:45:18.812377Z",
          "shell.execute_reply.started": "2025-05-09T11:45:18.612101Z"
        },
        "id": "S1NC5iN8WKh1",
        "trusted": true
      },
      "outputs": [],
      "source": [
        "def normalize(image):\n",
        "    image =  tf.cast(image, tf.float32)\n",
        "    image= (image / 127.5) - 1\n",
        "    return image\n",
        "\n",
        "def preprocess_image_train(image):\n",
        "    image = tf.image.random_flip_left_right(image)\n",
        "    image = normalize(image)\n",
        "    return image\n",
        "\n",
        "AUTOTUNE = tf.data.experimental.AUTOTUNE\n",
        "# tr1 = tr1_dt.map(preprocess_image_train, num_parallel_calls=AUTOTUNE).cache().shuffle(BUFFER_SIZE).batch(BATCH_SIZE)\n",
        "# tr2 = tr2_dt.map(preprocess_image_train, num_parallel_calls=AUTOTUNE).cache().shuffle(BUFFER_SIZE).batch(BATCH_SIZE)\n",
        "\n",
        "tr1 = tr1_dt.map(normalize, num_parallel_calls=AUTOTUNE).cache().shuffle(BUFFER_SIZE).batch(BATCH_SIZE)\n",
        "tr2 = tr2_dt.map(normalize, num_parallel_calls=AUTOTUNE).cache().shuffle(BUFFER_SIZE).batch(BATCH_SIZE)\n",
        "\n",
        "sample_t1_data = next(iter(tr1))\n",
        "sample_t2_data = next(iter(tr2))"
      ]
    },
    {
      "cell_type": "markdown",
      "metadata": {
        "id": "zHoUCT8UWKh1"
      },
      "source": [
        "#### Augmentation Tryouts"
      ]
    },
    {
      "cell_type": "code",
      "execution_count": null,
      "metadata": {
        "execution": {
          "iopub.execute_input": "2025-05-09T11:45:18.814123Z",
          "iopub.status.busy": "2025-05-09T11:45:18.813843Z",
          "iopub.status.idle": "2025-05-09T11:45:18.818042Z",
          "shell.execute_reply": "2025-05-09T11:45:18.817229Z",
          "shell.execute_reply.started": "2025-05-09T11:45:18.814101Z"
        },
        "id": "lFtObB4MWKh1",
        "jupyter": {
          "source_hidden": true
        },
        "trusted": true
      },
      "outputs": [],
      "source": [
        "#Simulates thermal/electronic noise in scanners\n",
        "def add_gaussian_noise(image, mean=0.0, stddev=15.0):\n",
        "    noise = tf.random.normal(shape=tf.shape(image), mean=mean, stddev=stddev, dtype=tf.float32)\n",
        "    noisy_image = tf.clip_by_value(image + noise, 0.0, 255.0)\n",
        "    return noisy_image\n",
        "\n",
        "# Mimics scanner calibration issues\n",
        "def intensity_shift(image, shift_range=30):\n",
        "    shift = tf.random.uniform([], -shift_range, shift_range, dtype=tf.float32)\n",
        "    shifted_image = image + shift\n",
        "    return tf.clip_by_value(shifted_image, 0.0, 255.0)\n",
        "\n",
        "\n",
        "#Simulates non-uniform magnetic field causing smooth illumination bias\n",
        "def intensity_gradient(image):\n",
        "    height, width, _ = image.shape\n",
        "    gradient = tf.linspace(0.8, 1.2, width)\n",
        "    gradient = tf.reshape(gradient, (1, width, 1))\n",
        "    biased_image = image * gradient\n",
        "    return tf.clip_by_value(biased_image, 0.0, 255.0)\n",
        "\n",
        "#MRI scans from different scanners may have varying contrast levels\n",
        "def random_contrast(image, lower=0.7, upper=1.3):\n",
        "    # Contrast variation in the range [0, 255]\n",
        "    contrast_factor = tf.random.uniform([], lower, upper)\n",
        "    contrast_image = image * contrast_factor\n",
        "    return tf.clip_by_value(contrast_image, 0.0, 255.0)"
      ]
    },
    {
      "cell_type": "code",
      "execution_count": null,
      "metadata": {
        "colab": {
          "base_uri": "https://localhost:8080/",
          "height": 433
        },
        "execution": {
          "iopub.execute_input": "2025-05-09T11:45:18.819133Z",
          "iopub.status.busy": "2025-05-09T11:45:18.818865Z",
          "iopub.status.idle": "2025-05-09T11:45:18.837279Z",
          "shell.execute_reply": "2025-05-09T11:45:18.836621Z",
          "shell.execute_reply.started": "2025-05-09T11:45:18.819112Z"
        },
        "id": "_8HfD-IrWKh2",
        "jupyter": {
          "source_hidden": true
        },
        "outputId": "d70b7165-df5a-4279-d931-dac4c8fb3884",
        "trusted": true
      },
      "outputs": [],
      "source": [
        "# Visualize all\n",
        "fig, axs = plt.subplots(2, 5, figsize=(20, 5))\n",
        "\n",
        "axs[0][0].imshow(tr1_data[0], cmap=\"gray\")  # Original\n",
        "axs[0][0].set_title('Original T1')\n",
        "axs[0][1].imshow(add_gaussian_noise(tr1_data[0]), cmap=\"gray\")\n",
        "axs[0][1].set_title('Gaussian Noise')\n",
        "axs[0][2].imshow(intensity_gradient(tr1_data[0]), cmap=\"gray\")\n",
        "axs[0][2].set_title('Biased Magnetic Field')\n",
        "axs[0][3].imshow(random_contrast(tr1_data[0]), cmap=\"gray\")\n",
        "axs[0][3].set_title('Randomized Contrast')\n",
        "axs[0][4].imshow(intensity_shift(tr1_data[0]), cmap=\"gray\")\n",
        "axs[0][4].set_title('Intensity Shift')\n",
        "axs[1][0].imshow(tr2_data[0], cmap=\"gray\")  # Original\n",
        "axs[1][0].set_title('Original T2')\n",
        "axs[1][1].imshow(add_gaussian_noise(tr2_data[0]), cmap=\"gray\")\n",
        "axs[1][1].set_title('Gaussian Noise')\n",
        "axs[1][2].imshow(intensity_gradient(tr2_data[0]), cmap=\"gray\")\n",
        "axs[1][2].set_title('Biased Magnetic Field')\n",
        "axs[1][3].imshow(random_contrast(tr2_data[0]), cmap=\"gray\")\n",
        "axs[1][3].set_title('Randomized Contrast')\n",
        "axs[1][4].imshow(intensity_shift(tr2_data[0]), cmap=\"gray\")\n",
        "axs[1][4].set_title('Intensity Shift')\n",
        "\n",
        "for ax in axs:\n",
        "    for a in ax:\n",
        "        a.axis('off')\n",
        "\n",
        "plt.show();"
      ]
    },
    {
      "cell_type": "code",
      "execution_count": null,
      "metadata": {
        "colab": {
          "base_uri": "https://localhost:8080/",
          "height": 173
        },
        "execution": {
          "iopub.execute_input": "2025-05-09T11:45:18.840132Z",
          "iopub.status.busy": "2025-05-09T11:45:18.839801Z",
          "iopub.status.idle": "2025-05-09T11:45:18.856853Z",
          "shell.execute_reply": "2025-05-09T11:45:18.856162Z",
          "shell.execute_reply.started": "2025-05-09T11:45:18.840113Z"
        },
        "id": "G6pdcfdxWKh2",
        "jupyter": {
          "source_hidden": true
        },
        "outputId": "247bee4f-c72f-4824-a01a-eb844a93f102",
        "trusted": true
      },
      "outputs": [],
      "source": [
        "seed = (1, 2)\n",
        "fig, axs = plt.subplots(1,4)\n",
        "\n",
        "axs[0].imshow(array_to_img(t1_images[0]), cmap='gray')\n",
        "axs[1].imshow(tf.image.adjust_brightness(array_to_img(t1_images[0]), delta=0.5))\n",
        "axs[2].imshow(tf.image.stateless_random_brightness(array_to_img(t1_images[0]),0.2,seed = (1, 2)), cmap='gray')\n",
        "axs[3].imshow(array_to_img(t2_images[0]), cmap='gray')\n",
        "plt.show();"
      ]
    },
    {
      "cell_type": "markdown",
      "metadata": {
        "id": "gfx_-s7yWKh2"
      },
      "source": [
        "### Loss Functions & Optimizer"
      ]
    },
    {
      "cell_type": "code",
      "execution_count": null,
      "metadata": {
        "execution": {
          "iopub.execute_input": "2025-05-09T11:45:18.857836Z",
          "iopub.status.busy": "2025-05-09T11:45:18.857631Z",
          "iopub.status.idle": "2025-05-09T11:45:18.888187Z",
          "shell.execute_reply": "2025-05-09T11:45:18.887484Z",
          "shell.execute_reply.started": "2025-05-09T11:45:18.857821Z"
        },
        "id": "vBxPLnzKWKh2",
        "trusted": true
      },
      "outputs": [],
      "source": [
        "loss_obj = tf.keras.losses.BinaryCrossentropy(from_logits=True)\n",
        "\n",
        "def discriminator_loss(real, generated):\n",
        "    real_loss = loss_obj(tf.ones_like(real), real)\n",
        "    generated_loss = loss_obj(tf.zeros_like(generated), generated)\n",
        "    total_disc_loss = real_loss + generated_loss\n",
        "    return total_disc_loss * 0.5\n",
        "\n",
        "def generator_loss(generated):\n",
        "    return loss_obj(tf.ones_like(generated), generated)\n",
        "\n",
        "def cycle_loss(real_image, cycled_image):\n",
        "    loss = tf.reduce_mean(tf.abs(real_image - cycled_image))\n",
        "    return 10.0 * loss\n",
        "\n",
        "def identity_loss(real_image, same_image):\n",
        "    loss = tf.reduce_mean(tf.abs(real_image - same_image))\n",
        "    return 0.5 * loss\n",
        "\n",
        "generator_g_optimizer = tf.keras.optimizers.Adam(2e-4, beta_1=0.5)\n",
        "generator_f_optimizer = tf.keras.optimizers.Adam(2e-4, beta_1=0.5)\n",
        "\n",
        "discriminator_x_optimizer = tf.keras.optimizers.Adam(2e-4, beta_1=0.5)\n",
        "discriminator_y_optimizer = tf.keras.optimizers.Adam(2e-4, beta_1=0.5)"
      ]
    },
    {
      "cell_type": "markdown",
      "metadata": {
        "id": "3R5NhWQVWKh2"
      },
      "source": [
        "### Model Building"
      ]
    },
    {
      "cell_type": "markdown",
      "metadata": {
        "id": "P8XDntC2WKh3"
      },
      "source": [
        "#### Instance Normalization"
      ]
    },
    {
      "cell_type": "code",
      "execution_count": null,
      "metadata": {
        "execution": {
          "iopub.execute_input": "2025-05-09T11:45:18.889345Z",
          "iopub.status.busy": "2025-05-09T11:45:18.889076Z",
          "iopub.status.idle": "2025-05-09T11:45:18.895379Z",
          "shell.execute_reply": "2025-05-09T11:45:18.894887Z",
          "shell.execute_reply.started": "2025-05-09T11:45:18.889323Z"
        },
        "id": "QbsfwhlqWKh3",
        "trusted": true
      },
      "outputs": [],
      "source": [
        "class InstanceNormalization(tf.keras.layers.Layer):\n",
        "    # Initialization of Objects\n",
        "    def __init__(self, epsilon=1e-5):\n",
        "        super(InstanceNormalization, self).__init__() # calling parent's init\n",
        "        self.epsilon = epsilon\n",
        "\n",
        "    def build(self, input_shape):\n",
        "        self.scale = self.add_weight(\n",
        "            name='scale',\n",
        "            shape=input_shape[-1:],\n",
        "            initializer=tf.random_normal_initializer(1., 0.02),\n",
        "            trainable=True)\n",
        "        self.offset = self.add_weight(\n",
        "            name='offset',\n",
        "            shape=input_shape[-1:],\n",
        "            initializer='zeros',\n",
        "            trainable=True)\n",
        "\n",
        "    def call(self, x):\n",
        "        # Compute Mean and Variance, Axes=[1,2] ensures Instance Normalization\n",
        "        mean, variance = tf.nn.moments(x, axes=[1, 2], keepdims=True)\n",
        "        inv = tf.math.rsqrt(variance + self.epsilon)\n",
        "        normalized = (x - mean) * inv\n",
        "        return self.scale * normalized + self.offset\n",
        "    \n",
        "    def get_config(self):\n",
        "        # Add epsilon to the config dictionary for deserialization\n",
        "        config = super(InstanceNormalization, self).get_config()\n",
        "        config.update({\"epsilon\": self.epsilon})\n",
        "        return config"
      ]
    },
    {
      "cell_type": "markdown",
      "metadata": {
        "id": "aWz1OVxZWKh3"
      },
      "source": [
        "#### Downsampling and Upsampling"
      ]
    },
    {
      "cell_type": "code",
      "execution_count": null,
      "metadata": {
        "execution": {
          "iopub.execute_input": "2025-05-09T11:45:18.896303Z",
          "iopub.status.busy": "2025-05-09T11:45:18.896072Z",
          "iopub.status.idle": "2025-05-09T11:45:18.911905Z",
          "shell.execute_reply": "2025-05-09T11:45:18.911154Z",
          "shell.execute_reply.started": "2025-05-09T11:45:18.896284Z"
        },
        "id": "5Vl53TRnWKh3",
        "trusted": true
      },
      "outputs": [],
      "source": [
        "def downsample(filters, size, apply_norm=True):\n",
        "    initializer = tf.random_normal_initializer(0., 0.02)\n",
        "    result = tf.keras.Sequential()\n",
        "\n",
        "    # Add Conv2d layer\n",
        "    result.add(tf.keras.layers.Conv2D(filters, size, strides=2, padding='same', kernel_initializer=initializer, use_bias=False))\n",
        "\n",
        "    # Add Normalization layer\n",
        "    if apply_norm:\n",
        "        result.add(InstanceNormalization())\n",
        "\n",
        "    # Add Leaky Relu Activation\n",
        "    # result.add(tf.keras.layers.LeakyReLU())\n",
        "    result.add(tf.keras.layers.LeakyReLU(alpha = 0.2))\n",
        "    return result\n",
        "\n",
        "def upsample(filters, size, apply_dropout=False):\n",
        "    initializer = tf.random_normal_initializer(0., 0.02)\n",
        "    result = tf.keras.Sequential()\n",
        "\n",
        "    # Add Transposed Conv2d layer\n",
        "    result.add(tf.keras.layers.Conv2DTranspose(filters, size, strides=2, padding='same', kernel_initializer=initializer, use_bias=False))\n",
        "\n",
        "    # Add Normalization Layer\n",
        "    result.add(InstanceNormalization())\n",
        "\n",
        "    # Conditionally add Dropout layer\n",
        "    if apply_dropout:\n",
        "        result.add(tf.keras.layers.Dropout(0.5))\n",
        "\n",
        "    # Add Relu Activation Layer\n",
        "    result.add(tf.keras.layers.ReLU())\n",
        "    return result"
      ]
    },
    {
      "cell_type": "markdown",
      "metadata": {
        "id": "GxiVmaL9WKh3"
      },
      "source": [
        "#### Generator"
      ]
    },
    {
      "cell_type": "code",
      "execution_count": null,
      "metadata": {
        "execution": {
          "iopub.execute_input": "2025-05-09T11:45:18.913056Z",
          "iopub.status.busy": "2025-05-09T11:45:18.912840Z",
          "iopub.status.idle": "2025-05-09T11:45:18.930352Z",
          "shell.execute_reply": "2025-05-09T11:45:18.929612Z",
          "shell.execute_reply.started": "2025-05-09T11:45:18.913040Z"
        },
        "id": "cd0nlZIdWKh3",
        "trusted": true
      },
      "outputs": [],
      "source": [
        "# Unet Generator is a combination of Convolution + Transposed Convolution Layers\n",
        "def unet_generator():\n",
        "\n",
        "    down_stack = [\n",
        "        downsample(64, 4, True),\n",
        "        downsample(128, 4, True),\n",
        "        downsample(256, 4, True),\n",
        "\n",
        "        # downsample(64, 4, False),\n",
        "        # downsample(128, 4),\n",
        "        # downsample(256, 4),\n",
        "\n",
        "        # downsample(512, 4),\n",
        "        # downsample(512, 4),\n",
        "        # downsample(512, 4),\n",
        "        # downsample(512, 4)\n",
        "\n",
        "        # downsample(64, 4, False), # (bs, 16, 16, 64)\n",
        "        # downsample(128, 4), # (bs, 8, 8, 128)\n",
        "        # downsample(128, 4), # (bs, 4, 4, 128)\n",
        "        # downsample(128, 4), # (bs, 2, 2, 128)\n",
        "        # downsample(128, 4) # (bs, 1, 1, 128)\n",
        "    ]\n",
        "    up_stack = [\n",
        "        upsample(256, 4, False),\n",
        "        upsample(128, 4, False),\n",
        "        upsample(64, 4, False)\n",
        "\n",
        "        # upsample(512, 4, True),\n",
        "        # upsample(128, 4),\n",
        "        # upsample(64, 4)\n",
        "\n",
        "        # upsample(512, 4, True),\n",
        "        # upsample(512, 4, True),\n",
        "        # upsample(512, 4),\n",
        "\n",
        "        # upsample(128, 4, True), # (bs, 2, 2, 256)\n",
        "        # upsample(128, 4, True), # (bs, 4, 4, 256)\n",
        "        # upsample(128, 4), # (bs, 8, 8, 256)\n",
        "        # upsample(64, 4) # (bs, 16, 16, 128)\n",
        "    ]\n",
        "    initializer = tf.random_normal_initializer(0., 0.02)\n",
        "    last = tf.keras.layers.Conv2DTranspose(1, 4, strides=2, padding='same', kernel_initializer=initializer, activation='tanh') # (bs, 32, 32, 1)\n",
        "    concat = tf.keras.layers.Concatenate()\n",
        "\n",
        "    inputs = tf.keras.layers.Input(shape=[IMG_HEIGHT, IMG_WIDTH, 1])\n",
        "    x = inputs\n",
        "\n",
        "    # Downsampling through the model\n",
        "    skips = []\n",
        "    for down in down_stack:\n",
        "        x = down(x)\n",
        "        skips.append(x)\n",
        "    skips = reversed(skips[:-1])\n",
        "\n",
        "    # Upsampling and establishing the skip connections\n",
        "    for up, skip in zip(up_stack, skips):\n",
        "        x = up(x)\n",
        "        x = concat([x, skip])\n",
        "    x = last(x)\n",
        "\n",
        "    return tf.keras.Model(inputs=inputs, outputs=x)"
      ]
    },
    {
      "cell_type": "code",
      "execution_count": null,
      "metadata": {
        "colab": {
          "base_uri": "https://localhost:8080/",
          "height": 605
        },
        "execution": {
          "iopub.execute_input": "2025-05-09T11:45:18.931736Z",
          "iopub.status.busy": "2025-05-09T11:45:18.931190Z",
          "iopub.status.idle": "2025-05-09T11:45:19.249126Z",
          "shell.execute_reply": "2025-05-09T11:45:19.248588Z",
          "shell.execute_reply.started": "2025-05-09T11:45:18.931711Z"
        },
        "id": "57XrcinUWKh4",
        "outputId": "08381309-7f37-4682-e3ba-bfb381456dfe",
        "trusted": true
      },
      "outputs": [],
      "source": [
        "generator_g = unet_generator()\n",
        "generator_f = unet_generator()\n",
        "generator_g.summary()"
      ]
    },
    {
      "cell_type": "markdown",
      "metadata": {
        "id": "hxIfsK4PWKh4"
      },
      "source": [
        "#### Discriminator"
      ]
    },
    {
      "cell_type": "code",
      "execution_count": null,
      "metadata": {
        "execution": {
          "iopub.execute_input": "2025-05-09T11:45:19.250116Z",
          "iopub.status.busy": "2025-05-09T11:45:19.249852Z",
          "iopub.status.idle": "2025-05-09T11:45:19.255993Z",
          "shell.execute_reply": "2025-05-09T11:45:19.255183Z",
          "shell.execute_reply.started": "2025-05-09T11:45:19.250091Z"
        },
        "id": "vYEnvxaaWKh4",
        "trusted": true
      },
      "outputs": [],
      "source": [
        "# Discriminators only contain Convolutional Layers and no Transposed Convolution is not used\n",
        "def discriminator():\n",
        "    initializer = tf.random_normal_initializer(0., 0.02)\n",
        "    # add input layer of size (32, 32, 1)\n",
        "    inp = tf.keras.layers.Input(shape=[IMG_HEIGHT, IMG_WIDTH, 1], name='input_image')\n",
        "    x = inp\n",
        "\n",
        "    # add downsampling step here\n",
        "    down1 = downsample(64, 4, False)(x) # (bs, 16, 16, 64)\n",
        "    down2 = downsample(128, 4)(down1) # (bs, 8, 8, 128)\n",
        "    down3 = downsample(256, 4)(down2)\n",
        "\n",
        "    # add a padding layer here\n",
        "    zero_pad1 = tf.keras.layers.ZeroPadding2D()(down3) # (bs, 10, 10, 128)\n",
        "\n",
        "    # implement a concrete downsampling layer here\n",
        "    conv = tf.keras.layers.Conv2D(512, 4, strides=1, kernel_initializer=initializer,\n",
        "                                  use_bias=False)(zero_pad1)\n",
        "    # conv = tf.keras.layers.Conv2D(256, 4, strides=1, kernel_initializer=initializer,\n",
        "    #                               use_bias=False)(zero_pad1) # (bs, 7, 7, 256)\n",
        "    norm1 = InstanceNormalization()(conv)\n",
        "    leaky_relu = tf.keras.layers.LeakyReLU()(norm1)\n",
        "\n",
        "    # apply zero padding layer\n",
        "    zero_pad2 = tf.keras.layers.ZeroPadding2D()(leaky_relu) # (bs, 9, 9, 256)\n",
        "\n",
        "    # add a last pure 2D Convolution layer\n",
        "    last = tf.keras.layers.Conv2D(1, 4, strides=1, kernel_initializer=initializer)(zero_pad2) # (bs, 6, 6, 1)\n",
        "    return tf.keras.Model(inputs=inp, outputs=last)"
      ]
    },
    {
      "cell_type": "code",
      "execution_count": null,
      "metadata": {
        "colab": {
          "base_uri": "https://localhost:8080/",
          "height": 502
        },
        "execution": {
          "iopub.execute_input": "2025-05-09T11:45:19.257034Z",
          "iopub.status.busy": "2025-05-09T11:45:19.256825Z",
          "iopub.status.idle": "2025-05-09T11:45:19.450486Z",
          "shell.execute_reply": "2025-05-09T11:45:19.449786Z",
          "shell.execute_reply.started": "2025-05-09T11:45:19.257019Z"
        },
        "id": "HMNmxWZjWKh4",
        "outputId": "1d58ed9c-a700-4f2b-bb96-5266ee55a105",
        "trusted": true
      },
      "outputs": [],
      "source": [
        "discriminator_x = discriminator()\n",
        "discriminator_y = discriminator()\n",
        "discriminator_x.summary()"
      ]
    },
    {
      "cell_type": "code",
      "execution_count": null,
      "metadata": {
        "colab": {
          "base_uri": "https://localhost:8080/",
          "height": 367
        },
        "execution": {
          "iopub.execute_input": "2025-05-09T11:45:19.451705Z",
          "iopub.status.busy": "2025-05-09T11:45:19.451435Z",
          "iopub.status.idle": "2025-05-09T11:45:21.270133Z",
          "shell.execute_reply": "2025-05-09T11:45:21.269341Z",
          "shell.execute_reply.started": "2025-05-09T11:45:19.451688Z"
        },
        "id": "EagWLR_tWKh4",
        "outputId": "85fbb140-6f6c-42b5-87cc-84607435e4ff",
        "trusted": true
      },
      "outputs": [],
      "source": [
        "to_t2_img_data = generator_g(sample_t1_data)\n",
        "to_t1_img_data = generator_f(sample_t2_data)\n",
        "plt.figure(figsize=(4, 4))\n",
        "\n",
        "imgs = [sample_t1_data, to_t2_img_data, sample_t2_data, to_t1_img_data]\n",
        "title = ['T1_Img_data', 'To T2_Img_data', 'T2_Img_data', 'To T1_Img_data']\n",
        "\n",
        "for i in range(len(imgs)):\n",
        "    plt.subplot(2, 2, i+1)\n",
        "    plt.title(title[i])\n",
        "    plt.imshow(imgs[i][0], cmap='gray')\n",
        "    plt.axis('off')\n",
        "plt.show();"
      ]
    },
    {
      "cell_type": "markdown",
      "metadata": {
        "id": "ILZpAcFnWKh4"
      },
      "source": [
        "### Model Training"
      ]
    },
    {
      "cell_type": "markdown",
      "metadata": {
        "id": "pZW393NRWKh5"
      },
      "source": [
        "#### Checkpoint Initialization"
      ]
    },
    {
      "cell_type": "code",
      "execution_count": null,
      "metadata": {
        "execution": {
          "iopub.execute_input": "2025-05-09T11:45:21.271212Z",
          "iopub.status.busy": "2025-05-09T11:45:21.270995Z",
          "iopub.status.idle": "2025-05-09T11:45:21.277675Z",
          "shell.execute_reply": "2025-05-09T11:45:21.276775Z",
          "shell.execute_reply.started": "2025-05-09T11:45:21.271196Z"
        },
        "id": "GllN9na4WKh5",
        "trusted": true
      },
      "outputs": [],
      "source": [
        "checkpoint_path = TEMP_FOLDER +\"Trained_Model\"\n",
        "\n",
        "ckpt = tf.train.Checkpoint(generator_g=generator_g,\n",
        "                           generator_f=generator_f,\n",
        "                           discriminator_x=discriminator_x,\n",
        "                           discriminator_y=discriminator_y,\n",
        "                           generator_g_optimizer=generator_g_optimizer,\n",
        "                           generator_f_optimizer=generator_f_optimizer,\n",
        "                           discriminator_x_optimizer=discriminator_x_optimizer,\n",
        "                           discriminator_y_optimizer=discriminator_y_optimizer)\n",
        "\n",
        "ckpt_manager = tf.train.CheckpointManager(ckpt, checkpoint_path, max_to_keep=3)\n",
        "\n",
        "# if a checkpoint exists, restore the latest checkpoint.\n",
        "if ckpt_manager.latest_checkpoint and RESTORE_CHECKPOINT:\n",
        "    ckpt.restore(ckpt_manager.latest_checkpoint)\n",
        "    print ('Latest checkpoint restored!!')"
      ]
    },
    {
      "cell_type": "code",
      "execution_count": null,
      "metadata": {
        "execution": {
          "iopub.execute_input": "2025-05-09T11:45:21.278887Z",
          "iopub.status.busy": "2025-05-09T11:45:21.278652Z",
          "iopub.status.idle": "2025-05-09T11:45:21.297639Z",
          "shell.execute_reply": "2025-05-09T11:45:21.296758Z",
          "shell.execute_reply.started": "2025-05-09T11:45:21.278866Z"
        },
        "id": "MThE5zHkWKh5",
        "trusted": true
      },
      "outputs": [],
      "source": [
        "def generate_images(model1, test_input1, model2, test_input2, epoch):\n",
        "    prediction1 = model1(test_input1)\n",
        "    prediction2 = model2(test_input2)\n",
        "    plt.figure(figsize=(8, 4))\n",
        "    display_list = [test_input1[0], prediction1[0], test_input2[0], prediction2[0]]\n",
        "    title = ['Input Image', 'Predicted Image', 'Input Image', 'Predicted Image']\n",
        "    for i in range(4):\n",
        "        plt.subplot(1, 4, i+1)\n",
        "        plt.title(title[i])\n",
        "        plt.imshow(display_list[i].numpy()[:, :, 0], cmap='gray')\n",
        "        plt.axis('off')\n",
        "\n",
        "    plt.savefig(TEMP_FOLDER +'image_at_epoch_{:04d}.png'.format(epoch))\n",
        "    plt.show();"
      ]
    },
    {
      "cell_type": "code",
      "execution_count": null,
      "metadata": {
        "execution": {
          "iopub.execute_input": "2025-05-09T11:45:21.299433Z",
          "iopub.status.busy": "2025-05-09T11:45:21.298545Z",
          "iopub.status.idle": "2025-05-09T11:45:21.314488Z",
          "shell.execute_reply": "2025-05-09T11:45:21.313773Z",
          "shell.execute_reply.started": "2025-05-09T11:45:21.299407Z"
        },
        "id": "WJzTvN30WKh5",
        "trusted": true
      },
      "outputs": [],
      "source": [
        "@tf.function\n",
        "def train_step(real_x, real_y):\n",
        "    # persistent is set to True because the tape is used more than\n",
        "    # once to calculate the gradients.\n",
        "    with tf.GradientTape(persistent=True) as tape:\n",
        "        # Generator G translates X -> Y\n",
        "        # Generator F translates Y -> X\n",
        "        fake_y = generator_g(real_x, training=True)\n",
        "        cycled_x = generator_f(fake_y, training=True)\n",
        "\n",
        "        fake_x = generator_f(real_y, training=True)\n",
        "        cycled_y = generator_g(fake_x, training=True)\n",
        "\n",
        "        # same_x and same_y are used for identity loss.\n",
        "        same_x = generator_f(real_x, training=True)\n",
        "        same_y = generator_g(real_y, training=True)\n",
        "\n",
        "        disc_real_x = discriminator_x(real_x, training=True)\n",
        "        disc_real_y = discriminator_y(real_y, training=True)\n",
        "\n",
        "        disc_fake_x = discriminator_x(fake_x, training=True)\n",
        "        disc_fake_y = discriminator_y(fake_y, training=True)\n",
        "\n",
        "        # calculate the loss\n",
        "        gen_g_loss = generator_loss(disc_fake_y)\n",
        "        gen_f_loss = generator_loss(disc_fake_x)\n",
        "\n",
        "        total_cycle_loss = cycle_loss(real_x, cycled_x) + cycle_loss(real_y, cycled_y)\n",
        "        total_id_loss = identity_loss(real_y, same_y) + identity_loss(real_x, same_x)\n",
        "\n",
        "        # Total generator loss = BCE loss + cycle loss + identity loss\n",
        "        total_gen_g_loss = gen_g_loss + total_cycle_loss + identity_loss(real_y, same_y)\n",
        "        total_gen_f_loss = gen_f_loss + total_cycle_loss + identity_loss(real_x, same_x)\n",
        "\n",
        "        # Discriminator's loss\n",
        "        disc_x_loss = discriminator_loss(disc_real_x, disc_fake_x)\n",
        "        disc_y_loss = discriminator_loss(disc_real_y, disc_fake_y)\n",
        "\n",
        "    # Calculate the gradients for generator and discriminator\n",
        "    generator_g_gradients = tape.gradient(total_gen_g_loss, generator_g.trainable_variables)\n",
        "    generator_f_gradients = tape.gradient(total_gen_f_loss, generator_f.trainable_variables)\n",
        "\n",
        "    discriminator_x_gradients = tape.gradient(disc_x_loss, discriminator_x.trainable_variables)\n",
        "    discriminator_y_gradients = tape.gradient(disc_y_loss, discriminator_y.trainable_variables)\n",
        "\n",
        "    # Apply the gradients to the optimizer\n",
        "    generator_g_optimizer.apply_gradients(zip(generator_g_gradients, generator_g.trainable_variables))\n",
        "    generator_f_optimizer.apply_gradients(zip(generator_f_gradients, generator_f.trainable_variables))\n",
        "\n",
        "    discriminator_x_optimizer.apply_gradients(zip(discriminator_x_gradients, discriminator_x.trainable_variables))\n",
        "    discriminator_y_optimizer.apply_gradients(zip(discriminator_y_gradients, discriminator_y.trainable_variables))\n",
        "\n",
        "    return {\n",
        "        'gen_g_loss': gen_g_loss, 'gen_f_loss': gen_f_loss,\n",
        "        'cycle_loss': total_cycle_loss, 'identity_loss': total_id_loss,\n",
        "        'disc_x_loss': disc_x_loss, 'disc_y_loss': disc_y_loss\n",
        "    }"
      ]
    },
    {
      "cell_type": "code",
      "execution_count": null,
      "metadata": {
        "execution": {
          "iopub.execute_input": "2025-05-09T11:45:21.315708Z",
          "iopub.status.busy": "2025-05-09T11:45:21.315394Z",
          "iopub.status.idle": "2025-05-09T11:45:21.334034Z",
          "shell.execute_reply": "2025-05-09T11:45:21.333293Z",
          "shell.execute_reply.started": "2025-05-09T11:45:21.315687Z"
        },
        "id": "OxxF1THMWKh5",
        "trusted": true
      },
      "outputs": [],
      "source": [
        "# for epoch in range(1, EPOCHS+1):\n",
        "#     for image_x, image_y in tf.data.Dataset.zip((tr1, tr2)):\n",
        "#         train_step(image_x, image_y)\n",
        "#     generate_images(generator_g, sample_t1_data, generator_f, sample_t2_data, epoch)\n",
        "#     ckpt_save_path = ckpt_manager.save()\n",
        "#     print('Saving checkpoint for epoch', epoch, 'at', ckpt_save_path)"
      ]
    },
    {
      "cell_type": "code",
      "execution_count": null,
      "metadata": {
        "colab": {
          "base_uri": "https://localhost:8080/",
          "height": 1000
        },
        "collapsed": true,
        "execution": {
          "iopub.execute_input": "2025-05-09T11:45:21.335313Z",
          "iopub.status.busy": "2025-05-09T11:45:21.335034Z",
          "iopub.status.idle": "2025-05-09T11:49:51.021529Z",
          "shell.execute_reply": "2025-05-09T11:49:51.020866Z",
          "shell.execute_reply.started": "2025-05-09T11:45:21.335291Z"
        },
        "id": "x3ojI-0wWKh5",
        "jupyter": {
          "outputs_hidden": true
        },
        "outputId": "64d8e150-85d8-4d07-936f-005340521a47",
        "trusted": true
      },
      "outputs": [],
      "source": [
        "for epoch in range(1, EPOCHS + 1):\n",
        "    print(f\"\\nEpoch {epoch}/{EPOCHS}\")\n",
        "\n",
        "    total_losses = {\n",
        "        'gen_g_loss': 0, 'gen_f_loss': 0,\n",
        "        'cycle_loss': 0, 'identity_loss': 0,\n",
        "        'disc_x_loss': 0,'disc_y_loss': 0\n",
        "    }\n",
        "\n",
        "    steps = 0\n",
        "    for image_x, image_y in tf.data.Dataset.zip((tr1, tr2)):\n",
        "        losses = train_step(image_x, image_y)\n",
        "        for key in total_losses:\n",
        "            total_losses[key] += losses[key]\n",
        "        steps += 1\n",
        "\n",
        "    avg_losses = {k: v / steps for k, v in total_losses.items()}\n",
        "    print(f\"Avg Losses -> GenG: {avg_losses['gen_g_loss']:.4f}, GenF: {avg_losses['gen_f_loss']:.4f}, \"\n",
        "          f\"Cycle: {avg_losses['cycle_loss']:.4f}, Identity: {avg_losses['identity_loss']:.4f}, \"\n",
        "          f\"DiscX: {avg_losses['disc_x_loss']:.4f}, DiscY: {avg_losses['disc_y_loss']:.4f}\")\n",
        "\n",
        "    generate_images(generator_g, sample_t1_data, generator_f, sample_t2_data, epoch)\n",
        "    ckpt_save_path = ckpt_manager.save()\n",
        "    print('Checkpoint saved at', ckpt_save_path)"
      ]
    },
    {
      "cell_type": "markdown",
      "metadata": {
        "id": "Zw42YHg6WKh6"
      },
      "source": [
        "### Model Visualization"
      ]
    },
    {
      "cell_type": "code",
      "execution_count": null,
      "metadata": {
        "colab": {
          "base_uri": "https://localhost:8080/"
        },
        "execution": {
          "iopub.execute_input": "2025-05-09T11:49:51.022463Z",
          "iopub.status.busy": "2025-05-09T11:49:51.022214Z",
          "iopub.status.idle": "2025-05-09T11:49:52.156341Z",
          "shell.execute_reply": "2025-05-09T11:49:52.155764Z",
          "shell.execute_reply.started": "2025-05-09T11:49:51.022447Z"
        },
        "id": "fmq8608AWKh6",
        "outputId": "dc593ad8-4a2c-49ca-d538-9b410ad376c7",
        "trusted": true
      },
      "outputs": [],
      "source": [
        "anim_file = TEMP_FOLDER + 'cyclegan.gif'\n",
        "\n",
        "with imageio.get_writer(anim_file, mode='I') as writer:\n",
        "  filenames = glob.glob( TEMP_FOLDER + 'image*.png')\n",
        "  filenames = sorted(filenames)\n",
        "  for filename in filenames:\n",
        "    image = imageio.imread(filename)\n",
        "    writer.append_data(image)\n",
        "  image = imageio.imread(filename)\n",
        "  writer.append_data(image)"
      ]
    },
    {
      "cell_type": "code",
      "execution_count": null,
      "metadata": {
        "colab": {
          "base_uri": "https://localhost:8080/",
          "height": 422
        },
        "execution": {
          "iopub.execute_input": "2025-05-09T11:49:52.157383Z",
          "iopub.status.busy": "2025-05-09T11:49:52.157107Z",
          "iopub.status.idle": "2025-05-09T11:49:52.183858Z",
          "shell.execute_reply": "2025-05-09T11:49:52.182924Z",
          "shell.execute_reply.started": "2025-05-09T11:49:52.157343Z"
        },
        "id": "_3hk6M1OWKh-",
        "outputId": "814d2104-d1c2-4028-d34d-7c564927fe67",
        "trusted": true
      },
      "outputs": [],
      "source": [
        "embed.embed_file(anim_file)"
      ]
    },
    {
      "cell_type": "markdown",
      "metadata": {
        "id": "1i9Mj_bYWKh-"
      },
      "source": [
        "### Model Testing"
      ]
    },
    {
      "cell_type": "code",
      "execution_count": null,
      "metadata": {
        "execution": {
          "iopub.execute_input": "2025-05-09T11:49:52.184975Z",
          "iopub.status.busy": "2025-05-09T11:49:52.184757Z",
          "iopub.status.idle": "2025-05-09T11:49:52.190148Z",
          "shell.execute_reply": "2025-05-09T11:49:52.189319Z",
          "shell.execute_reply.started": "2025-05-09T11:49:52.184959Z"
        },
        "id": "l1N7zNPRWKh-",
        "trusted": true
      },
      "outputs": [],
      "source": [
        "def test_model(model, test_input):\n",
        "    prediction = model(test_input)\n",
        "    plt.figure(figsize=(5, 5))\n",
        "    display_list = [test_input[0], prediction[0]]\n",
        "    title = ['Input Image', 'Predicted Image', 'Expected Image']\n",
        "    for i in range(2):\n",
        "        plt.subplot(1, 2, i+1)\n",
        "        plt.title(title[i])\n",
        "        # getting the pixel values between [0, 1] to plot it.\n",
        "        plt.imshow(display_list[i].numpy()[:, :, 0] * 0.5 + 0.5, cmap='gray')\n",
        "        plt.axis('off')\n",
        "    plt.show()"
      ]
    },
    {
      "cell_type": "code",
      "execution_count": null,
      "metadata": {
        "colab": {
          "base_uri": "https://localhost:8080/",
          "height": 1000
        },
        "execution": {
          "iopub.execute_input": "2025-05-09T11:49:52.191156Z",
          "iopub.status.busy": "2025-05-09T11:49:52.190947Z",
          "iopub.status.idle": "2025-05-09T11:49:52.922378Z",
          "shell.execute_reply": "2025-05-09T11:49:52.921764Z",
          "shell.execute_reply.started": "2025-05-09T11:49:52.191134Z"
        },
        "id": "SHdH3t8VWKh-",
        "outputId": "f7fef872-d827-4b32-fcfc-a9ae7936609b",
        "trusted": true
      },
      "outputs": [],
      "source": [
        "# Run the trained model on the test dataset\n",
        "for inp in tr1.take(5):\n",
        "    test_model(generator_g, inp)"
      ]
    },
    {
      "cell_type": "code",
      "execution_count": null,
      "metadata": {
        "colab": {
          "base_uri": "https://localhost:8080/"
        },
        "collapsed": true,
        "execution": {
          "iopub.execute_input": "2025-05-09T12:07:08.460711Z",
          "iopub.status.busy": "2025-05-09T12:07:08.459975Z",
          "iopub.status.idle": "2025-05-09T12:07:27.842329Z",
          "shell.execute_reply": "2025-05-09T12:07:27.841751Z",
          "shell.execute_reply.started": "2025-05-09T12:07:08.460681Z"
        },
        "id": "ovep7q23WKh-",
        "outputId": "618f5e63-99b1-4083-de2b-c3c188aa3a24",
        "trusted": true
      },
      "outputs": [],
      "source": [
        "print(train_step.pretty_printed_concrete_signatures())\n",
        "shutil.make_archive(TIMESTAMP + '_model_output', 'zip', TEMP_FOLDER)\n",
        "!rm -rf TEMP_FOLDER"
      ]
    },
    {
      "cell_type": "code",
      "execution_count": null,
      "metadata": {
        "execution": {
          "iopub.execute_input": "2025-05-09T14:43:05.277503Z",
          "iopub.status.busy": "2025-05-09T14:43:05.277224Z",
          "iopub.status.idle": "2025-05-09T14:43:05.369568Z",
          "shell.execute_reply": "2025-05-09T14:43:05.368691Z",
          "shell.execute_reply.started": "2025-05-09T14:43:05.277483Z"
        },
        "id": "VaCVV7_oWKh-",
        "trusted": true
      },
      "outputs": [],
      "source": [
        "generator_g.save( TEMP_FOLDER + 'test.keras')\n"
      ]
    },
    {
      "cell_type": "code",
      "execution_count": null,
      "metadata": {
        "colab": {
          "base_uri": "https://localhost:8080/",
          "height": 1000
        },
        "id": "wS_97ccnZeBH",
        "outputId": "6708ed5c-cb1a-4041-ceaf-ab978439ddc1"
      },
      "outputs": [],
      "source": [
        "loaded_model =  tf.keras.models.load_model(\n",
        "    TEMP_FOLDER + 'test.keras',\n",
        "    custom_objects={'InstanceNormalization': InstanceNormalization}\n",
        ")\n",
        "\n",
        "loaded_model.summary()"
      ]
    },
    {
      "cell_type": "code",
      "execution_count": null,
      "metadata": {
        "colab": {
          "base_uri": "https://localhost:8080/"
        },
        "execution": {
          "iopub.execute_input": "2025-05-09T14:39:30.920725Z",
          "iopub.status.busy": "2025-05-09T14:39:30.920437Z",
          "iopub.status.idle": "2025-05-09T14:39:31.535200Z",
          "shell.execute_reply": "2025-05-09T14:39:31.534503Z",
          "shell.execute_reply.started": "2025-05-09T14:39:30.920702Z"
        },
        "id": "atV2iu9wWKh_",
        "outputId": "bbd7ca5e-53f6-450c-cfe7-d14727073ad2",
        "trusted": true
      },
      "outputs": [],
      "source": [
        "!wget -O test1.png 'https://prod-images-static.radiopaedia.org/images/13655932/ba29d24104918a30130f4003faac71.png'\n",
        "!wget -O test2.png 'https://prod-images-static.radiopaedia.org/images/13655058/2fd7c8e4fffb33a31b13858642d4e4.png'\n",
        "!wget -O test3.png 'https://prod-images-static.radiopaedia.org/images/13656005/bd937738ad6223a03f8aedcf4920a7.png'\n",
        "!wget -O test4.png 'https://prod-images-static.radiopaedia.org/images/13655954/90ca102c87be4f399f8266ce6d96d6.png'\n",
        "!wget -O test5.png 'https://prod-images-static.radiopaedia.org/images/13656021/d022d1079185636184f1044834e3cb.png'\n",
        "\n",
        "images = ['/content/test1.png','/content/test2.png','/content/test3.png','/content/test4.png', '/content/test5.png']"
      ]
    },
    {
      "cell_type": "code",
      "execution_count": null,
      "metadata": {
        "colab": {
          "base_uri": "https://localhost:8080/",
          "height": 1000
        },
        "id": "yhZZBlZqaabV",
        "outputId": "0f92124b-b79b-49e4-8e9f-9653c7d45059"
      },
      "outputs": [],
      "source": [
        "def test_image(img):\n",
        "    test_image = load_img(img, target_size=(256, 256))\n",
        "    test_image = img_to_array(test_image)\n",
        "    test_image = asarray(test_image)\n",
        "    test_image = tf.image.rgb_to_grayscale(test_image)\n",
        "    test_image = tf.expand_dims(test_image, axis=0)\n",
        "    test= tf.data.Dataset.from_tensor_slices(tf.convert_to_tensor(test_image))\n",
        "    for p in test.take(1):\n",
        "        test_model(generator_g, test_image)\n",
        "\n",
        "for img in images:\n",
        "    test_image(img)"
      ]
    },
    {
      "cell_type": "code",
      "execution_count": null,
      "metadata": {
        "id": "yc3nUbLXWKh_"
      },
      "outputs": [],
      "source": [
        "# %load_ext tensorboard\n",
        "# %reload_ext tensorboard\n",
        "# %tensorboard --logdir ./logs/"
      ]
    }
  ],
  "metadata": {
    "accelerator": "GPU",
    "colab": {
      "gpuType": "T4",
      "include_colab_link": true,
      "provenance": []
    },
    "kaggle": {
      "accelerator": "gpu",
      "dataSources": [
        {
          "datasetId": 7336908,
          "sourceId": 11689502,
          "sourceType": "datasetVersion"
        }
      ],
      "dockerImageVersionId": 31011,
      "isGpuEnabled": true,
      "isInternetEnabled": true,
      "language": "python",
      "sourceType": "notebook"
    },
    "kernelspec": {
      "display_name": "tsflow-cpu",
      "language": "python",
      "name": "python3"
    },
    "language_info": {
      "codemirror_mode": {
        "name": "ipython",
        "version": 3
      },
      "file_extension": ".py",
      "mimetype": "text/x-python",
      "name": "python",
      "nbconvert_exporter": "python",
      "pygments_lexer": "ipython3",
      "version": "3.11.12"
    }
  },
  "nbformat": 4,
  "nbformat_minor": 0
}
