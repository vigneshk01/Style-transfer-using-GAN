{
 "cells": [
  {
   "cell_type": "code",
   "execution_count": null,
   "metadata": {},
   "outputs": [
    {
     "name": "stdout",
     "output_type": "stream",
     "text": [
      "Requirement already satisfied: pandas in /mnt/file_storage/software_data/anaconda3/envs/tsflow-cpu/lib/python3.11/site-packages (2.2.3)\n",
      "Requirement already satisfied: numpy in /mnt/file_storage/software_data/anaconda3/envs/tsflow-cpu/lib/python3.11/site-packages (2.1.3)\n",
      "Requirement already satisfied: tensorflow in /mnt/file_storage/software_data/anaconda3/envs/tsflow-cpu/lib/python3.11/site-packages (2.19.0)\n",
      "Requirement already satisfied: matplotlib in /mnt/file_storage/software_data/anaconda3/envs/tsflow-cpu/lib/python3.11/site-packages (3.10.1)\n",
      "Requirement already satisfied: imageio in /mnt/file_storage/software_data/anaconda3/envs/tsflow-cpu/lib/python3.11/site-packages (2.37.0)\n",
      "Collecting scikit-image\n",
      "  Using cached scikit_image-0.25.2-cp311-cp311-manylinux_2_17_x86_64.manylinux2014_x86_64.whl.metadata (14 kB)\n",
      "Requirement already satisfied: python-dateutil>=2.8.2 in /mnt/file_storage/software_data/anaconda3/envs/tsflow-cpu/lib/python3.11/site-packages (from pandas) (2.9.0.post0)\n",
      "Requirement already satisfied: pytz>=2020.1 in /mnt/file_storage/software_data/anaconda3/envs/tsflow-cpu/lib/python3.11/site-packages (from pandas) (2025.2)\n",
      "Requirement already satisfied: tzdata>=2022.7 in /mnt/file_storage/software_data/anaconda3/envs/tsflow-cpu/lib/python3.11/site-packages (from pandas) (2025.2)\n",
      "Requirement already satisfied: absl-py>=1.0.0 in /mnt/file_storage/software_data/anaconda3/envs/tsflow-cpu/lib/python3.11/site-packages (from tensorflow) (2.2.2)\n",
      "Requirement already satisfied: astunparse>=1.6.0 in /mnt/file_storage/software_data/anaconda3/envs/tsflow-cpu/lib/python3.11/site-packages (from tensorflow) (1.6.3)\n",
      "Requirement already satisfied: flatbuffers>=24.3.25 in /mnt/file_storage/software_data/anaconda3/envs/tsflow-cpu/lib/python3.11/site-packages (from tensorflow) (25.2.10)\n",
      "Requirement already satisfied: gast!=0.5.0,!=0.5.1,!=0.5.2,>=0.2.1 in /mnt/file_storage/software_data/anaconda3/envs/tsflow-cpu/lib/python3.11/site-packages (from tensorflow) (0.6.0)\n",
      "Requirement already satisfied: google-pasta>=0.1.1 in /mnt/file_storage/software_data/anaconda3/envs/tsflow-cpu/lib/python3.11/site-packages (from tensorflow) (0.2.0)\n",
      "Requirement already satisfied: libclang>=13.0.0 in /mnt/file_storage/software_data/anaconda3/envs/tsflow-cpu/lib/python3.11/site-packages (from tensorflow) (18.1.1)\n",
      "Requirement already satisfied: opt-einsum>=2.3.2 in /mnt/file_storage/software_data/anaconda3/envs/tsflow-cpu/lib/python3.11/site-packages (from tensorflow) (3.4.0)\n",
      "Requirement already satisfied: packaging in /mnt/file_storage/software_data/anaconda3/envs/tsflow-cpu/lib/python3.11/site-packages (from tensorflow) (25.0)\n",
      "Requirement already satisfied: protobuf!=4.21.0,!=4.21.1,!=4.21.2,!=4.21.3,!=4.21.4,!=4.21.5,<6.0.0dev,>=3.20.3 in /mnt/file_storage/software_data/anaconda3/envs/tsflow-cpu/lib/python3.11/site-packages (from tensorflow) (5.29.4)\n",
      "Requirement already satisfied: requests<3,>=2.21.0 in /mnt/file_storage/software_data/anaconda3/envs/tsflow-cpu/lib/python3.11/site-packages (from tensorflow) (2.32.3)\n",
      "Requirement already satisfied: setuptools in /mnt/file_storage/software_data/anaconda3/envs/tsflow-cpu/lib/python3.11/site-packages (from tensorflow) (79.0.1)\n",
      "Requirement already satisfied: six>=1.12.0 in /mnt/file_storage/software_data/anaconda3/envs/tsflow-cpu/lib/python3.11/site-packages (from tensorflow) (1.17.0)\n",
      "Requirement already satisfied: termcolor>=1.1.0 in /mnt/file_storage/software_data/anaconda3/envs/tsflow-cpu/lib/python3.11/site-packages (from tensorflow) (3.0.1)\n",
      "Requirement already satisfied: typing-extensions>=3.6.6 in /mnt/file_storage/software_data/anaconda3/envs/tsflow-cpu/lib/python3.11/site-packages (from tensorflow) (4.13.2)\n",
      "Requirement already satisfied: wrapt>=1.11.0 in /mnt/file_storage/software_data/anaconda3/envs/tsflow-cpu/lib/python3.11/site-packages (from tensorflow) (1.17.2)\n",
      "Requirement already satisfied: grpcio<2.0,>=1.24.3 in /mnt/file_storage/software_data/anaconda3/envs/tsflow-cpu/lib/python3.11/site-packages (from tensorflow) (1.71.0)\n",
      "Requirement already satisfied: tensorboard~=2.19.0 in /mnt/file_storage/software_data/anaconda3/envs/tsflow-cpu/lib/python3.11/site-packages (from tensorflow) (2.19.0)\n",
      "Requirement already satisfied: keras>=3.5.0 in /mnt/file_storage/software_data/anaconda3/envs/tsflow-cpu/lib/python3.11/site-packages (from tensorflow) (3.9.2)\n",
      "Requirement already satisfied: h5py>=3.11.0 in /mnt/file_storage/software_data/anaconda3/envs/tsflow-cpu/lib/python3.11/site-packages (from tensorflow) (3.13.0)\n",
      "Requirement already satisfied: ml-dtypes<1.0.0,>=0.5.1 in /mnt/file_storage/software_data/anaconda3/envs/tsflow-cpu/lib/python3.11/site-packages (from tensorflow) (0.5.1)\n",
      "Requirement already satisfied: tensorflow-io-gcs-filesystem>=0.23.1 in /mnt/file_storage/software_data/anaconda3/envs/tsflow-cpu/lib/python3.11/site-packages (from tensorflow) (0.37.1)\n",
      "Requirement already satisfied: charset_normalizer<4,>=2 in /mnt/file_storage/software_data/anaconda3/envs/tsflow-cpu/lib/python3.11/site-packages (from requests<3,>=2.21.0->tensorflow) (3.4.1)\n",
      "Requirement already satisfied: idna<4,>=2.5 in /mnt/file_storage/software_data/anaconda3/envs/tsflow-cpu/lib/python3.11/site-packages (from requests<3,>=2.21.0->tensorflow) (3.10)\n",
      "Requirement already satisfied: urllib3<3,>=1.21.1 in /mnt/file_storage/software_data/anaconda3/envs/tsflow-cpu/lib/python3.11/site-packages (from requests<3,>=2.21.0->tensorflow) (2.4.0)\n",
      "Requirement already satisfied: certifi>=2017.4.17 in /mnt/file_storage/software_data/anaconda3/envs/tsflow-cpu/lib/python3.11/site-packages (from requests<3,>=2.21.0->tensorflow) (2025.1.31)\n",
      "Requirement already satisfied: markdown>=2.6.8 in /mnt/file_storage/software_data/anaconda3/envs/tsflow-cpu/lib/python3.11/site-packages (from tensorboard~=2.19.0->tensorflow) (3.8)\n",
      "Requirement already satisfied: tensorboard-data-server<0.8.0,>=0.7.0 in /mnt/file_storage/software_data/anaconda3/envs/tsflow-cpu/lib/python3.11/site-packages (from tensorboard~=2.19.0->tensorflow) (0.7.2)\n",
      "Requirement already satisfied: werkzeug>=1.0.1 in /mnt/file_storage/software_data/anaconda3/envs/tsflow-cpu/lib/python3.11/site-packages (from tensorboard~=2.19.0->tensorflow) (3.1.3)\n",
      "Requirement already satisfied: contourpy>=1.0.1 in /mnt/file_storage/software_data/anaconda3/envs/tsflow-cpu/lib/python3.11/site-packages (from matplotlib) (1.3.2)\n",
      "Requirement already satisfied: cycler>=0.10 in /mnt/file_storage/software_data/anaconda3/envs/tsflow-cpu/lib/python3.11/site-packages (from matplotlib) (0.12.1)\n",
      "Requirement already satisfied: fonttools>=4.22.0 in /mnt/file_storage/software_data/anaconda3/envs/tsflow-cpu/lib/python3.11/site-packages (from matplotlib) (4.57.0)\n",
      "Requirement already satisfied: kiwisolver>=1.3.1 in /mnt/file_storage/software_data/anaconda3/envs/tsflow-cpu/lib/python3.11/site-packages (from matplotlib) (1.4.8)\n",
      "Requirement already satisfied: pillow>=8 in /mnt/file_storage/software_data/anaconda3/envs/tsflow-cpu/lib/python3.11/site-packages (from matplotlib) (11.2.1)\n",
      "Requirement already satisfied: pyparsing>=2.3.1 in /mnt/file_storage/software_data/anaconda3/envs/tsflow-cpu/lib/python3.11/site-packages (from matplotlib) (3.2.3)\n",
      "Collecting scipy>=1.11.4 (from scikit-image)\n",
      "  Using cached scipy-1.15.2-cp311-cp311-manylinux_2_17_x86_64.manylinux2014_x86_64.whl.metadata (61 kB)\n",
      "Collecting networkx>=3.0 (from scikit-image)\n",
      "  Using cached networkx-3.4.2-py3-none-any.whl.metadata (6.3 kB)\n",
      "Collecting tifffile>=2022.8.12 (from scikit-image)\n",
      "  Using cached tifffile-2025.3.30-py3-none-any.whl.metadata (32 kB)\n",
      "Collecting lazy-loader>=0.4 (from scikit-image)\n",
      "  Using cached lazy_loader-0.4-py3-none-any.whl.metadata (7.6 kB)\n",
      "Requirement already satisfied: wheel<1.0,>=0.23.0 in /mnt/file_storage/software_data/anaconda3/envs/tsflow-cpu/lib/python3.11/site-packages (from astunparse>=1.6.0->tensorflow) (0.45.1)\n",
      "Requirement already satisfied: rich in /mnt/file_storage/software_data/anaconda3/envs/tsflow-cpu/lib/python3.11/site-packages (from keras>=3.5.0->tensorflow) (14.0.0)\n",
      "Requirement already satisfied: namex in /mnt/file_storage/software_data/anaconda3/envs/tsflow-cpu/lib/python3.11/site-packages (from keras>=3.5.0->tensorflow) (0.0.9)\n",
      "Requirement already satisfied: optree in /mnt/file_storage/software_data/anaconda3/envs/tsflow-cpu/lib/python3.11/site-packages (from keras>=3.5.0->tensorflow) (0.15.0)\n",
      "Requirement already satisfied: MarkupSafe>=2.1.1 in /mnt/file_storage/software_data/anaconda3/envs/tsflow-cpu/lib/python3.11/site-packages (from werkzeug>=1.0.1->tensorboard~=2.19.0->tensorflow) (3.0.2)\n",
      "Requirement already satisfied: markdown-it-py>=2.2.0 in /mnt/file_storage/software_data/anaconda3/envs/tsflow-cpu/lib/python3.11/site-packages (from rich->keras>=3.5.0->tensorflow) (3.0.0)\n",
      "Requirement already satisfied: pygments<3.0.0,>=2.13.0 in /mnt/file_storage/software_data/anaconda3/envs/tsflow-cpu/lib/python3.11/site-packages (from rich->keras>=3.5.0->tensorflow) (2.19.1)\n",
      "Requirement already satisfied: mdurl~=0.1 in /mnt/file_storage/software_data/anaconda3/envs/tsflow-cpu/lib/python3.11/site-packages (from markdown-it-py>=2.2.0->rich->keras>=3.5.0->tensorflow) (0.1.2)\n",
      "Using cached scikit_image-0.25.2-cp311-cp311-manylinux_2_17_x86_64.manylinux2014_x86_64.whl (14.8 MB)\n",
      "Using cached lazy_loader-0.4-py3-none-any.whl (12 kB)\n",
      "Using cached networkx-3.4.2-py3-none-any.whl (1.7 MB)\n",
      "Using cached scipy-1.15.2-cp311-cp311-manylinux_2_17_x86_64.manylinux2014_x86_64.whl (37.6 MB)\n",
      "Using cached tifffile-2025.3.30-py3-none-any.whl (226 kB)\n",
      "Installing collected packages: tifffile, scipy, networkx, lazy-loader, scikit-image\n",
      "\u001b[2K   \u001b[90m━━━━━━━━━━━━━━━━━━━━━━━━━━━━━━━━━━━━━━━━\u001b[0m \u001b[32m5/5\u001b[0m [scikit-image][0m [scikit-image]\n",
      "\u001b[1A\u001b[2KSuccessfully installed lazy-loader-0.4 networkx-3.4.2 scikit-image-0.25.2 scipy-1.15.2 tifffile-2025.3.30\n"
     ]
    }
   ],
   "source": [
    "# !pip install pandas numpy tensorflow matplotlib imageio scikit-image"
   ]
  },
  {
   "cell_type": "markdown",
   "metadata": {},
   "source": [
    "Import Libraries"
   ]
  },
  {
   "cell_type": "code",
   "execution_count": 13,
   "metadata": {},
   "outputs": [],
   "source": [
    "import glob\n",
    "import imageio\n",
    "import numpy as np\n",
    "import pandas as pd\n",
    "import matplotlib.pyplot as plt\n",
    "from skimage.transform import resize\n",
    "from tensorflow.keras.utils import plot_model"
   ]
  },
  {
   "cell_type": "markdown",
   "metadata": {},
   "source": [
    "Data Loading"
   ]
  },
  {
   "cell_type": "code",
   "execution_count": 18,
   "metadata": {},
   "outputs": [],
   "source": [
    "SOURCE_FOLDER = './Source/'\n",
    "T1_FOLDER = SOURCE_FOLDER + 'Tr1/TrainT1/'\n",
    "T2_FOLDER = SOURCE_FOLDER + 'Tr2/TrainT2/'\n",
    "\n",
    "t1_images = glob.glob(T1_FOLDER+'*.png')\n",
    "t2_images = glob.glob(T2_FOLDER+'*.png')"
   ]
  },
  {
   "cell_type": "code",
   "execution_count": null,
   "metadata": {},
   "outputs": [
    {
     "data": {
      "text/plain": [
       "0     ./Source/Tr1/TrainT1/Image #24.png\n",
       "1     ./Source/Tr1/TrainT1/Image #35.png\n",
       "2     ./Source/Tr1/TrainT1/Image #26.png\n",
       "3     ./Source/Tr1/TrainT1/Image #40.png\n",
       "4     ./Source/Tr1/TrainT1/Image #49.png\n",
       "5     ./Source/Tr1/TrainT1/Image #18.png\n",
       "6     ./Source/Tr1/TrainT1/Image #46.png\n",
       "7     ./Source/Tr1/TrainT1/Image #42.png\n",
       "8     ./Source/Tr1/TrainT1/Image #13.png\n",
       "9     ./Source/Tr1/TrainT1/Image #28.png\n",
       "10    ./Source/Tr1/TrainT1/Image #17.png\n",
       "11    ./Source/Tr1/TrainT1/Image #47.png\n",
       "12    ./Source/Tr1/TrainT1/Image #38.png\n",
       "13    ./Source/Tr1/TrainT1/Image #32.png\n",
       "14    ./Source/Tr1/TrainT1/Image #15.png\n",
       "15    ./Source/Tr1/TrainT1/Image #11.png\n",
       "16    ./Source/Tr1/TrainT1/Image #48.png\n",
       "17    ./Source/Tr1/TrainT1/Image #34.png\n",
       "18    ./Source/Tr1/TrainT1/Image #44.png\n",
       "19    ./Source/Tr1/TrainT1/Image #43.png\n",
       "20    ./Source/Tr1/TrainT1/Image #50.png\n",
       "21    ./Source/Tr1/TrainT1/Image #31.png\n",
       "22    ./Source/Tr1/TrainT1/Image #53.png\n",
       "23    ./Source/Tr1/TrainT1/Image #23.png\n",
       "24    ./Source/Tr1/TrainT1/Image #10.png\n",
       "25    ./Source/Tr1/TrainT1/Image #45.png\n",
       "26    ./Source/Tr1/TrainT1/Image #52.png\n",
       "27    ./Source/Tr1/TrainT1/Image #16.png\n",
       "28    ./Source/Tr1/TrainT1/Image #41.png\n",
       "29    ./Source/Tr1/TrainT1/Image #19.png\n",
       "30    ./Source/Tr1/TrainT1/Image #33.png\n",
       "31    ./Source/Tr1/TrainT1/Image #55.png\n",
       "32    ./Source/Tr1/TrainT1/Image #25.png\n",
       "33    ./Source/Tr1/TrainT1/Image #51.png\n",
       "34    ./Source/Tr1/TrainT1/Image #36.png\n",
       "35    ./Source/Tr1/TrainT1/Image #14.png\n",
       "36    ./Source/Tr1/TrainT1/Image #54.png\n",
       "37    ./Source/Tr1/TrainT1/Image #29.png\n",
       "38    ./Source/Tr1/TrainT1/Image #37.png\n",
       "39    ./Source/Tr1/TrainT1/Image #27.png\n",
       "40    ./Source/Tr1/TrainT1/Image #30.png\n",
       "41    ./Source/Tr1/TrainT1/Image #12.png\n",
       "42    ./Source/Tr1/TrainT1/Image #39.png\n",
       "Name: 0, dtype: object"
      ]
     },
     "execution_count": 25,
     "metadata": {},
     "output_type": "execute_result"
    }
   ],
   "source": [
    "t1_df = pd.DataFrame(t1_images)\n",
    "t2_df = pd.DataFrame(t2_images)"
   ]
  }
 ],
 "metadata": {
  "kernelspec": {
   "display_name": "tsflow-cpu",
   "language": "python",
   "name": "python3"
  },
  "language_info": {
   "codemirror_mode": {
    "name": "ipython",
    "version": 3
   },
   "file_extension": ".py",
   "mimetype": "text/x-python",
   "name": "python",
   "nbconvert_exporter": "python",
   "pygments_lexer": "ipython3",
   "version": "3.11.12"
  }
 },
 "nbformat": 4,
 "nbformat_minor": 2
}
